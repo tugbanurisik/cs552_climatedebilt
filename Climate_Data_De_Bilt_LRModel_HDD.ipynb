{
 "cells": [
  {
   "cell_type": "markdown",
   "id": "4356c383-382a-46f4-90ad-80a112ca3468",
   "metadata": {},
   "source": [
    "# CLIMATE DATA DE BILT "
   ]
  },
  {
   "cell_type": "markdown",
   "id": "316cfb6e-a533-48a1-a7a3-f10bf2d1d621",
   "metadata": {},
   "source": [
    "Bu notebook, Hollanda'daki 1800-2014 yılları arasındaki iklim normallerinin kaydedildiği bir veri seti kullanılarak iklim verilerinin birbiriyle ilişkisini analiz etmek ve bir tahmin modeli gelistirmek amacıyla **veri işleme** ve **Python uygulamaları** üzerine bir çalışma içermektedir.\n",
    "\n",
    "##### Bu notebook spesifik olarak Heating Degree Days Tahmin Modeli kısmına yoğunlaşmaktadır."
   ]
  },
  {
   "cell_type": "code",
   "execution_count": 3,
   "id": "d7eeec7a-c74d-4425-994e-b4f769266e85",
   "metadata": {},
   "outputs": [],
   "source": [
    "import pandas as pd\n",
    "import requests\n",
    "import numpy as np"
   ]
  },
  {
   "cell_type": "code",
   "execution_count": 5,
   "id": "8b38c156-f4a0-4e41-a202-71acef4ff8bc",
   "metadata": {},
   "outputs": [],
   "source": [
    "import matplotlib.pyplot as plt"
   ]
  },
  {
   "cell_type": "code",
   "execution_count": 7,
   "id": "44479684-062c-4415-a1b3-75ebba8c3c30",
   "metadata": {},
   "outputs": [],
   "source": [
    "# Data Preprocessing notebookunda temizlenmiş veri setinin bulunduğu Excel dosyasını içe aktarma\n",
    "file_path = \"ClimateDeBilt_Preprocessed.xlsx\"\n",
    "df = pd.read_excel(file_path)"
   ]
  },
  {
   "cell_type": "code",
   "execution_count": 9,
   "id": "ef9f0e14-7bdf-44bb-8109-ef0773a0dd82",
   "metadata": {},
   "outputs": [
    {
     "data": {
      "text/plain": [
       "Year                         int64\n",
       "YearlyAvgTemp              float64\n",
       "WinterAvgTemp              float64\n",
       "WinterAvgMinTemp           float64\n",
       "SummerAvgTemp              float64\n",
       "SummerAvgMaxTemp           float64\n",
       "SunlessDays                  int64\n",
       "DaysWithPrecipitation        int64\n",
       "DaysWithFog                  int64\n",
       "IceDays                      int64\n",
       "FrostDays                    int64\n",
       "SnowDays                     int64\n",
       "HoursOfSunshine              int64\n",
       "SummeryDays                  int64\n",
       "TropicalDays                 int64\n",
       "DryDays                      int64\n",
       "RelativeHumidity             int64\n",
       "QuantityOfPrecipitation      int64\n",
       "Evaporation                  int64\n",
       "HeatingDegreeDays            int64\n",
       "dtype: object"
      ]
     },
     "execution_count": 9,
     "metadata": {},
     "output_type": "execute_result"
    }
   ],
   "source": [
    "#Data setimin içindeki veri tiplerini kontrol ediyorum \n",
    "df.dtypes\n"
   ]
  },
  {
   "cell_type": "code",
   "execution_count": 11,
   "id": "ee5a8c37-8002-45e8-83b6-898477bff4db",
   "metadata": {},
   "outputs": [
    {
     "name": "stdout",
     "output_type": "stream",
     "text": [
      "Year                       0\n",
      "YearlyAvgTemp              0\n",
      "WinterAvgTemp              0\n",
      "WinterAvgMinTemp           0\n",
      "SummerAvgTemp              0\n",
      "SummerAvgMaxTemp           0\n",
      "SunlessDays                0\n",
      "DaysWithPrecipitation      0\n",
      "DaysWithFog                0\n",
      "IceDays                    0\n",
      "FrostDays                  0\n",
      "SnowDays                   0\n",
      "HoursOfSunshine            0\n",
      "SummeryDays                0\n",
      "TropicalDays               0\n",
      "DryDays                    0\n",
      "RelativeHumidity           0\n",
      "QuantityOfPrecipitation    0\n",
      "Evaporation                0\n",
      "HeatingDegreeDays          0\n",
      "dtype: int64\n"
     ]
    }
   ],
   "source": [
    "# Veri çerçevesindeki eksik veri olup olmadığını kontrol ediyorum\n",
    "missing_data = df.isnull().sum()\n",
    "\n",
    "# Sonuçları görüntülüyorum\n",
    "print(missing_data)\n"
   ]
  },
  {
   "cell_type": "code",
   "execution_count": 13,
   "id": "c90e3acf-47a3-49a8-a8ba-17cb50d3740f",
   "metadata": {},
   "outputs": [
    {
     "name": "stdout",
     "output_type": "stream",
     "text": [
      "(35, 20)\n"
     ]
    }
   ],
   "source": [
    "print(df.shape)  # Veri setinin boyutu"
   ]
  },
  {
   "cell_type": "markdown",
   "id": "5dfda051-45b5-4642-a738-e910c72dbc65",
   "metadata": {},
   "source": [
    "##### Her şey doğru. Model Geliştirme kısmına geçebilirim."
   ]
  },
  {
   "cell_type": "markdown",
   "id": "ade8592e-8b23-4c40-b63a-aeeb5ebc3fd8",
   "metadata": {},
   "source": [
    "## Model Training 1.0 : Random Split of Train $ Test Sets"
   ]
  },
  {
   "cell_type": "markdown",
   "id": "bc6463d9-99e7-4e86-80af-430374bd68c5",
   "metadata": {},
   "source": [
    "### Veriyi Train ve Test setlerine Ayırma"
   ]
  },
  {
   "cell_type": "code",
   "execution_count": 18,
   "id": "a502210e-0ef3-4bef-972f-60b1d2a7ad15",
   "metadata": {},
   "outputs": [
    {
     "name": "stdout",
     "output_type": "stream",
     "text": [
      "Mean Squared Error: 1457.3843723941447\n",
      "R²: 0.9159785648513125\n"
     ]
    }
   ],
   "source": [
    "from sklearn.model_selection import train_test_split\n",
    "from sklearn.linear_model import LinearRegression\n",
    "from sklearn.metrics import mean_squared_error, r2_score\n",
    "\n",
    "# Y = Target (Heating Degree Days) ve X = regressorlerin yazilimi (Ilk basta tum degiskenleri kullanarak bir model gelistirecegim)\n",
    "X = df.drop(\"HeatingDegreeDays\", axis=1)\n",
    "y = df[\"HeatingDegreeDays\"]\n",
    "\n",
    "# Eğitim ve test setlerine ayırma\n",
    "X_train, X_test, y_train, y_test = train_test_split(X, y, test_size=0.2, random_state=42)\n",
    "\n",
    "# Model oluşturma ve eğitme\n",
    "model = LinearRegression()\n",
    "model.fit(X_train, y_train)\n",
    "\n",
    "# Tahmin yapma\n",
    "y_pred = model.predict(X_test)\n",
    "\n",
    "# Performans metrikleri\n",
    "mse = mean_squared_error(y_test, y_pred)\n",
    "r2 = r2_score(y_test, y_pred)\n",
    "\n",
    "print(f\"Mean Squared Error: {mse}\")\n",
    "print(f\"R²: {r2}\")\n"
   ]
  },
  {
   "cell_type": "markdown",
   "id": "9da89f7f-52e0-47f9-99d8-d12c9375c9f3",
   "metadata": {},
   "source": [
    "### Modelin overfitting problemi olup olmadığını kontrol etmemiz gerekiyor."
   ]
  },
  {
   "cell_type": "code",
   "execution_count": 21,
   "id": "c45d6cd5-8c67-404f-8f26-a332988401f0",
   "metadata": {},
   "outputs": [
    {
     "name": "stdout",
     "output_type": "stream",
     "text": [
      "Eğitim Seti MSE: 248.76139995481503, R²: 0.9969232426570068\n",
      "Test Seti MSE: 1457.3843723941447, R²: 0.9159785648513125\n"
     ]
    }
   ],
   "source": [
    "# Eğitim seti performansı\n",
    "y_train_pred = model.predict(X_train)\n",
    "train_mse = mean_squared_error(y_train, y_train_pred)\n",
    "train_r2 = r2_score(y_train, y_train_pred)\n",
    "\n",
    "# Test seti performansı\n",
    "y_test_pred = model.predict(X_test)\n",
    "test_mse = mean_squared_error(y_test, y_test_pred)\n",
    "test_r2 = r2_score(y_test, y_test_pred)\n",
    "\n",
    "# Sonuçları yazdırma\n",
    "print(f\"Eğitim Seti MSE: {train_mse}, R²: {train_r2}\")\n",
    "print(f\"Test Seti MSE: {test_mse}, R²: {test_r2}\")\n"
   ]
  },
  {
   "cell_type": "markdown",
   "id": "03857245-69da-4f96-9919-8d9bfe171fdf",
   "metadata": {},
   "source": [
    "#### Yorum: \n",
    "\n",
    "Modelin eğitim ve test setlerindeki MSE değerlerinin birbirinden çok uzak değerler olduğunu görüyoruz. Buradan anlıyoruz ki model eğitim setine uyum gösterirken test setinde performansı düşmekte. Overfittin Yani \"aşırı öğrenme\" problemi ile karşı karşıyayız. Sonuç: Veri setindeki fazla sayıda değişken, modelin eğitim setine fazla adapte olmasını yani ayrıntılarda kaybolduğunu göstermekte."
   ]
  },
  {
   "cell_type": "markdown",
   "id": "70f28a05-c9c5-4bd8-8834-6603846a0bf2",
   "metadata": {},
   "source": [
    "#### Öneri: \n",
    "\n",
    "Heating Degree Days değişkeni zamana bağlı olarak azalan bir değer olduğu için, model eğitimi esnasında veri setinin %70'ini modeli eğitmek bunun için de 1981-2003 yılları arasındaki verileri kullanmak, %30'unu modeli test etmek bunun için de 2004-2014 yıllarındaki verileri kullanabiliriz. "
   ]
  },
  {
   "cell_type": "markdown",
   "id": "38da6dad-45d8-47af-ae1f-869dfd677c87",
   "metadata": {},
   "source": [
    "## Model Training 2.0 : Year-based Split of Train $ Test Sets"
   ]
  },
  {
   "cell_type": "markdown",
   "id": "4b3bc834-eee6-47e3-b390-56725b663f44",
   "metadata": {},
   "source": [
    "### Veriyi Train ve Test setlerine Ayırma"
   ]
  },
  {
   "cell_type": "code",
   "execution_count": 27,
   "id": "3eb90f20-3982-4656-a49e-d10bfaeefc31",
   "metadata": {},
   "outputs": [
    {
     "name": "stdout",
     "output_type": "stream",
     "text": [
      "Eğitim Seti MSE: 124.10053603777978, R²: 0.9980187053622535\n",
      "Test Seti MSE: 26552.16283381573, R²: 0.5563713798042971\n"
     ]
    }
   ],
   "source": [
    "\n",
    "# Eğitim ve test setlerini yıllara göre ayırma\n",
    "train_data = df[df['Year'] < 2004]  # 1981-2004 yılları\n",
    "test_data = df[df['Year'] >= 2004]  # 2004-2014 yılları\n",
    "\n",
    "# Eğitim seti\n",
    "X_train = train_data.drop('HeatingDegreeDays', axis=1)  # Eğitim setinde HDD dışındaki tüm değişkenler\n",
    "y_train = train_data['HeatingDegreeDays']  # Eğitim setindeki HDD değeri\n",
    "\n",
    "# Test seti\n",
    "X_test = test_data.drop('HeatingDegreeDays', axis=1)  # Test setinde HDD dışındaki tüm değişkenler\n",
    "y_test = test_data['HeatingDegreeDays']  # Test setindeki HDD değeri\n",
    "\n",
    "# Modeli oluşturma ve eğitme\n",
    "model = LinearRegression()\n",
    "model.fit(X_train, y_train)\n",
    "\n",
    "# Eğitim seti ile tahmin yapma\n",
    "y_train_pred = model.predict(X_train)\n",
    "\n",
    "# Test seti ile tahmin yapma\n",
    "y_test_pred = model.predict(X_test)\n",
    "\n",
    "# Eğitim ve test seti performans değerlendirmesi\n",
    "train_mse = mean_squared_error(y_train, y_train_pred)\n",
    "train_r2 = r2_score(y_train, y_train_pred)\n",
    "test_mse = mean_squared_error(y_test, y_test_pred)\n",
    "test_r2 = r2_score(y_test, y_test_pred)\n",
    "\n",
    "# Sonuçları yazdırma\n",
    "print(f\"Eğitim Seti MSE: {train_mse}, R²: {train_r2}\")\n",
    "print(f\"Test Seti MSE: {test_mse}, R²: {test_r2}\")"
   ]
  },
  {
   "cell_type": "markdown",
   "id": "6d8abd84-85e9-4076-97ca-ddac7589dc55",
   "metadata": {},
   "source": [
    "#### Yorum: \n",
    "\n",
    "Yeni modelin test setindeki R-score değeri eğitim setinden azımsanamayacak derecede daha düşük. Yeni modelin test setindeki MSE değerinin ise daha da arttığını görmekteyiz."
   ]
  },
  {
   "cell_type": "markdown",
   "id": "271b8cb5-aece-455f-82f9-f6a65cc269e8",
   "metadata": {},
   "source": [
    "#### Model 1.0 ve Model 2.0 Karşılaştırılması\n",
    "\n",
    "Model 1.0 : Random Split Sets\n",
    "Model 2.0 : Year-based Split Sets"
   ]
  },
  {
   "cell_type": "code",
   "execution_count": 31,
   "id": "c5ed8c7f-61e1-44d9-9c01-d6eb643234d3",
   "metadata": {},
   "outputs": [
    {
     "name": "stdout",
     "output_type": "stream",
     "text": [
      "              Model  Train MSE  Test MSE  Train R²  Test R²\n",
      "0      Random Split     248.76   1457.38      0.99     0.91\n",
      "1  Year-based Split     124.10  26552.16      0.99     0.55\n"
     ]
    }
   ],
   "source": [
    "\n",
    "data = {\n",
    "    \"Model\": [\"Random Split\", \"Year-based Split\"], \n",
    "    \"Train MSE\": [248.76, 124.10],    # Model 1 ve Model 2 için Train MSE değerleri\n",
    "    \"Test MSE\": [1457.38, 26552.16],     # Model 1 ve Model 2 için Test MSE değerleri\n",
    "    \"Train R²\": [0.99, 0.99],         # Model 1 ve Model 2 için Train R² değerleri\n",
    "    \"Test R²\": [0.91, 0.55]           # Model 1 ve Model 2 için Test R² değerleri\n",
    "}\n",
    "\n",
    "# Verileri bir DataFrame'e dönüştürme\n",
    "comparison_df = pd.DataFrame(data)\n",
    "\n",
    "# Tabloyu yazdırma\n",
    "print(comparison_df)\n"
   ]
  },
  {
   "cell_type": "markdown",
   "id": "33f45cbb-d625-41cc-ac97-552465c58bb9",
   "metadata": {},
   "source": [
    "#### Öneri: \n",
    "\n",
    "R-score ve MSE değerlerinin test ve eğitim setlerinde farklı olmalarının sebebi, Multicollinearity yani bağımsız değişkenlerin (predictor) arasında yüksek lineer ilişki olmaası yani birbiriyle çok güçlü ilişkide olmaları anlamına gelebilir. Bu sebeple Multicollinearity Detection yapmak gerekmektedir.\n",
    "\n",
    "Multicollinearity Tespiti için kullanılabilecek yöntemler:\n",
    "\n",
    "1. Korelasyon matrixi kullanılarak r değerlerinin 0.8'den ve/veya -0.8'den fazla olan değişkenler tespit edilebilir.\n",
    "    Korelasyon matrixi adımında Heating Degree Days ile arasında yüksek pozitif ve yüksek negatif ilişki olan değişkenler:\n",
    "       Frost Days (r=0.86), Ice Days (r=0.82), Yearly Average Temperature (r= -0.99)\n",
    "3. Variance Inflation Factor (VIF) kullanılarak her bir değişkenin diğer değişkenlerle ne derecede ilişkili olduğu saptanabilir.\n",
    "    VIF > 10 : Yüksek multicollinearity\n",
    "    VIF > 5 : Orta derecede multicollinearity\n",
    "    VIF ≤ 5 : Kabul edilebilir düzeyde multicollinearity"
   ]
  },
  {
   "cell_type": "markdown",
   "id": "400ac92b-f3a8-497a-97ff-b25c27f527e5",
   "metadata": {},
   "source": [
    "## Multicollinearity Detection"
   ]
  },
  {
   "cell_type": "code",
   "execution_count": 39,
   "id": "5379359b-7190-49ab-ae63-1f7035633736",
   "metadata": {},
   "outputs": [
    {
     "name": "stdout",
     "output_type": "stream",
     "text": [
      "                    feature            VIF\n",
      "0                     const  373303.087440\n",
      "1                      Year       8.688105\n",
      "2             YearlyAvgTemp      24.103057\n",
      "3             WinterAvgTemp     206.004043\n",
      "4          WinterAvgMinTemp     241.826516\n",
      "5             SummerAvgTemp      23.822031\n",
      "6          SummerAvgMaxTemp      34.387410\n",
      "7               SunlessDays       8.716656\n",
      "8     DaysWithPrecipitation      15.524978\n",
      "9               DaysWithFog       3.459170\n",
      "10                  IceDays       7.840047\n",
      "11                FrostDays      14.188423\n",
      "12                 SnowDays      10.754705\n",
      "13          HoursOfSunshine      12.696475\n",
      "14              SummeryDays      14.251241\n",
      "15             TropicalDays       6.589790\n",
      "16                  DryDays       9.703272\n",
      "17         RelativeHumidity       4.190716\n",
      "18  QuantityOfPrecipitation       7.592877\n",
      "19              Evaporation       4.181658\n"
     ]
    }
   ],
   "source": [
    "import statsmodels.api as sm\n",
    "from statsmodels.stats.outliers_influence import variance_inflation_factor\n",
    "from statsmodels.tools.tools import add_constant\n",
    "\n",
    "# Sabit terim ekle\n",
    "X = sm.add_constant(X)\n",
    "\n",
    "# VIF hesaplama fonksiyonu\n",
    "def calculate_vif(data):\n",
    "    vif = pd.DataFrame()\n",
    "    vif[\"feature\"] = data.columns\n",
    "    vif[\"VIF\"] = [variance_inflation_factor(data.values, i) for i in range(data.shape[1])]\n",
    "    return vif\n",
    "\n",
    "# VIF değerlerini hesapla\n",
    "vif_data = calculate_vif(X)\n",
    "\n",
    "print(vif_data)\n"
   ]
  },
  {
   "cell_type": "markdown",
   "id": "fdf57401-b715-424e-b8f3-5390d2e793d0",
   "metadata": {},
   "source": [
    "### Yorumlar:\n",
    "\n",
    "const (Sabit Terim) : Bu göz ardı edilebilir.\n",
    "\n",
    "## Yüksek Multicollineariy:\n",
    "\n",
    "WinterAvgTemp (206.004043) ve WinterAvgMinTemp (241.826516):\n",
    "Çok yüksek VIF değerleri gösteriyor. Bu değişkenler arasında ciddi bir multicollinearity var.\n",
    "Muhtemelen bu değişkenler benzer bilgi taşıyor. Bunlardan birini çıkarabiliriz.\n",
    "\n",
    "YearlyAvgTemp (24.103057), SummerAvgTemp (23.822031), SummerAvgMaxTemp (34.387410):\n",
    "Yaz sıcaklıkları ve yıllık ortalama sıcaklıklar arasında multicollinearity görülüyor. Burada da bir seçim yapılabilir.\n",
    "    \n",
    "Diğer Değişkenler:\n",
    "Örneğin, DaysWithFog (3.459170), RelativeHumidity (4.190716), ve Evaporation (4.181658) gibi değişkenler düşük VIF değerlerine sahip ve sorun yaratmıyor."
   ]
  },
  {
   "cell_type": "markdown",
   "id": "3a007bf9-dd98-4976-a7d1-dfc9a8c8e2e6",
   "metadata": {},
   "source": [
    "## Feature Selection"
   ]
  },
  {
   "cell_type": "markdown",
   "id": "8cac46d7-544c-4984-8a38-cfc597cca81c",
   "metadata": {},
   "source": [
    "VIF değeri yüksek olan değişkenleri modelden çıkararak multicollinearity’yi azaltmayı deneyebiliriz.\n",
    "\n",
    "Backward Elimination metodunu seçeceğiz. Modeldeki en az anlamlı değişkenleri adım adım çıkararak model performansı izlenebilir. "
   ]
  },
  {
   "cell_type": "markdown",
   "id": "434250b2-eaa4-46ee-8121-795ba72358c7",
   "metadata": {},
   "source": [
    "### Backward Elimination"
   ]
  },
  {
   "cell_type": "code",
   "execution_count": 45,
   "id": "eea21add-f865-4abe-9156-dabfbe49e0c0",
   "metadata": {},
   "outputs": [],
   "source": [
    "# Backward elimination uygulama\n",
    "def backward_elimination(data, target, threshold=10):\n",
    "    data_with_constant = add_constant(data)  # Sabit terim ekleniyor\n",
    "    \n",
    "    while True:\n",
    "        # VIF hesapla\n",
    "        vif = calculate_vif(data_with_constant)\n",
    "        print(\"\\nVIF Değerleri:\")\n",
    "        print(vif)\n",
    "        \n",
    "        # En yüksek VIF değerini bul\n",
    "        max_vif = vif[\"VIF\"].max()\n",
    "        if max_vif > threshold:\n",
    "            # VIF değeri en yüksek olan feature'ı seç\n",
    "            max_vif_feature = vif.loc[vif[\"VIF\"] == max_vif, \"feature\"].values[0]\n",
    "            print(f\"\\nKaldırılan Değişken: {max_vif_feature} (VIF: {max_vif:.2f})\")\n",
    "            \n",
    "            # Bu feature'ı veri setinden çıkar\n",
    "            data_with_constant = data_with_constant.drop(columns=[max_vif_feature])\n",
    "        else:\n",
    "            break\n",
    "    \n",
    "    # Sabit terimi koruyarak nihai veri setini döndür\n",
    "    return data_with_constant.drop(columns=['const'], errors='ignore')\n"
   ]
  },
  {
   "cell_type": "code",
   "execution_count": 47,
   "id": "d424d256-2300-490b-84e2-3c99b0d046a7",
   "metadata": {
    "scrolled": true
   },
   "outputs": [
    {
     "name": "stdout",
     "output_type": "stream",
     "text": [
      "\n",
      "VIF Değerleri:\n",
      "                    feature            VIF\n",
      "0                     const  373303.087440\n",
      "1                      Year       8.688105\n",
      "2             YearlyAvgTemp      24.103057\n",
      "3             WinterAvgTemp     206.004043\n",
      "4          WinterAvgMinTemp     241.826516\n",
      "5             SummerAvgTemp      23.822031\n",
      "6          SummerAvgMaxTemp      34.387410\n",
      "7               SunlessDays       8.716656\n",
      "8     DaysWithPrecipitation      15.524978\n",
      "9               DaysWithFog       3.459170\n",
      "10                  IceDays       7.840047\n",
      "11                FrostDays      14.188423\n",
      "12                 SnowDays      10.754705\n",
      "13          HoursOfSunshine      12.696475\n",
      "14              SummeryDays      14.251241\n",
      "15             TropicalDays       6.589790\n",
      "16                  DryDays       9.703272\n",
      "17         RelativeHumidity       4.190716\n",
      "18  QuantityOfPrecipitation       7.592877\n",
      "19              Evaporation       4.181658\n",
      "\n",
      "Kaldırılan Değişken: const (VIF: 373303.09)\n",
      "\n",
      "VIF Değerleri:\n",
      "                    feature           VIF\n",
      "0                      Year  15540.219801\n",
      "1             YearlyAvgTemp   4391.225769\n",
      "2             WinterAvgTemp    996.405515\n",
      "3          WinterAvgMinTemp    236.695939\n",
      "4             SummerAvgTemp   9368.874815\n",
      "5          SummerAvgMaxTemp   9451.174409\n",
      "6               SunlessDays    115.144038\n",
      "7     DaysWithPrecipitation    929.117573\n",
      "8               DaysWithFog     36.772106\n",
      "9                   IceDays     14.276482\n",
      "10                FrostDays    154.904055\n",
      "11                 SnowDays     38.893426\n",
      "12          HoursOfSunshine   1055.982216\n",
      "13              SummeryDays    121.212537\n",
      "14             TropicalDays     14.565003\n",
      "15                  DryDays    480.185071\n",
      "16         RelativeHumidity  11636.542838\n",
      "17  QuantityOfPrecipitation    330.752988\n",
      "18              Evaporation    676.818500\n",
      "\n",
      "Kaldırılan Değişken: Year (VIF: 15540.22)\n",
      "\n",
      "VIF Değerleri:\n",
      "                    feature          VIF\n",
      "0             YearlyAvgTemp  4075.873956\n",
      "1             WinterAvgTemp   920.157985\n",
      "2          WinterAvgMinTemp   215.820316\n",
      "3             SummerAvgTemp  8696.301334\n",
      "4          SummerAvgMaxTemp  8790.854620\n",
      "5               SunlessDays   101.335012\n",
      "6     DaysWithPrecipitation   877.128306\n",
      "7               DaysWithFog    34.972860\n",
      "8                   IceDays    13.458116\n",
      "9                 FrostDays   141.423922\n",
      "10                 SnowDays    38.875177\n",
      "11          HoursOfSunshine  1054.239613\n",
      "12              SummeryDays   108.374638\n",
      "13             TropicalDays    11.680847\n",
      "14                  DryDays   373.741620\n",
      "15         RelativeHumidity  4955.119877\n",
      "16  QuantityOfPrecipitation   328.919924\n",
      "17              Evaporation   644.904265\n",
      "\n",
      "Kaldırılan Değişken: SummerAvgMaxTemp (VIF: 8790.85)\n",
      "\n",
      "VIF Değerleri:\n",
      "                    feature          VIF\n",
      "0             YearlyAvgTemp  4075.650082\n",
      "1             WinterAvgTemp   916.048003\n",
      "2          WinterAvgMinTemp   215.778037\n",
      "3             SummerAvgTemp  3447.173736\n",
      "4               SunlessDays    97.771838\n",
      "5     DaysWithPrecipitation   716.539421\n",
      "6               DaysWithFog    33.270429\n",
      "7                   IceDays    13.390986\n",
      "8                 FrostDays   133.475239\n",
      "9                  SnowDays    37.926913\n",
      "10          HoursOfSunshine  1053.944796\n",
      "11              SummeryDays   107.793679\n",
      "12             TropicalDays    11.095481\n",
      "13                  DryDays   335.448170\n",
      "14         RelativeHumidity  4829.962765\n",
      "15  QuantityOfPrecipitation   271.606639\n",
      "16              Evaporation   399.549355\n",
      "\n",
      "Kaldırılan Değişken: RelativeHumidity (VIF: 4829.96)\n",
      "\n",
      "VIF Değerleri:\n",
      "                    feature          VIF\n",
      "0             YearlyAvgTemp  2257.697981\n",
      "1             WinterAvgTemp   573.923924\n",
      "2          WinterAvgMinTemp   131.887475\n",
      "3             SummerAvgTemp  3029.109260\n",
      "4               SunlessDays    92.058731\n",
      "5     DaysWithPrecipitation   683.065797\n",
      "6               DaysWithFog    28.703376\n",
      "7                   IceDays    13.014138\n",
      "8                 FrostDays   115.868300\n",
      "9                  SnowDays    29.927696\n",
      "10          HoursOfSunshine  1045.079259\n",
      "11              SummeryDays    73.499841\n",
      "12             TropicalDays    11.022071\n",
      "13                  DryDays   334.059014\n",
      "14  QuantityOfPrecipitation   256.483054\n",
      "15              Evaporation   394.557350\n",
      "\n",
      "Kaldırılan Değişken: SummerAvgTemp (VIF: 3029.11)\n",
      "\n",
      "VIF Değerleri:\n",
      "                    feature          VIF\n",
      "0             YearlyAvgTemp  1848.879084\n",
      "1             WinterAvgTemp   558.563842\n",
      "2          WinterAvgMinTemp   127.161181\n",
      "3               SunlessDays    66.226949\n",
      "4     DaysWithPrecipitation   663.323946\n",
      "5               DaysWithFog    28.340881\n",
      "6                   IceDays    10.146346\n",
      "7                 FrostDays   105.934340\n",
      "8                  SnowDays    27.658948\n",
      "9           HoursOfSunshine   919.461951\n",
      "10              SummeryDays    60.124946\n",
      "11             TropicalDays     9.498541\n",
      "12                  DryDays   333.749163\n",
      "13  QuantityOfPrecipitation   242.246143\n",
      "14              Evaporation   369.233765\n",
      "\n",
      "Kaldırılan Değişken: YearlyAvgTemp (VIF: 1848.88)\n",
      "\n",
      "VIF Değerleri:\n",
      "                    feature         VIF\n",
      "0             WinterAvgTemp  553.981376\n",
      "1          WinterAvgMinTemp  127.086522\n",
      "2               SunlessDays   63.805846\n",
      "3     DaysWithPrecipitation  450.400598\n",
      "4               DaysWithFog   28.205725\n",
      "5                   IceDays    9.749894\n",
      "6                 FrostDays  103.819567\n",
      "7                  SnowDays   24.110232\n",
      "8           HoursOfSunshine  752.747778\n",
      "9               SummeryDays   56.958704\n",
      "10             TropicalDays    9.216599\n",
      "11                  DryDays  296.641070\n",
      "12  QuantityOfPrecipitation  240.297620\n",
      "13              Evaporation  315.127953\n",
      "\n",
      "Kaldırılan Değişken: HoursOfSunshine (VIF: 752.75)\n",
      "\n",
      "VIF Değerleri:\n",
      "                    feature         VIF\n",
      "0             WinterAvgTemp  499.009187\n",
      "1          WinterAvgMinTemp  119.421938\n",
      "2               SunlessDays   35.575330\n",
      "3     DaysWithPrecipitation  445.954450\n",
      "4               DaysWithFog   28.196886\n",
      "5                   IceDays    9.702105\n",
      "6                 FrostDays  102.326099\n",
      "7                  SnowDays   23.398040\n",
      "8               SummeryDays   50.762451\n",
      "9              TropicalDays    7.669528\n",
      "10                  DryDays  121.986851\n",
      "11  QuantityOfPrecipitation  237.900354\n",
      "12              Evaporation  274.965742\n",
      "\n",
      "Kaldırılan Değişken: WinterAvgTemp (VIF: 499.01)\n",
      "\n",
      "VIF Değerleri:\n",
      "                    feature         VIF\n",
      "0          WinterAvgMinTemp    6.175892\n",
      "1               SunlessDays   32.135845\n",
      "2     DaysWithPrecipitation  300.470699\n",
      "3               DaysWithFog   25.635037\n",
      "4                   IceDays    9.084930\n",
      "5                 FrostDays   96.786643\n",
      "6                  SnowDays   19.381482\n",
      "7               SummeryDays   49.026920\n",
      "8              TropicalDays    7.666456\n",
      "9                   DryDays  121.891371\n",
      "10  QuantityOfPrecipitation  213.905956\n",
      "11              Evaporation  260.790381\n",
      "\n",
      "Kaldırılan Değişken: DaysWithPrecipitation (VIF: 300.47)\n",
      "\n",
      "VIF Değerleri:\n",
      "                    feature         VIF\n",
      "0          WinterAvgMinTemp    6.146890\n",
      "1               SunlessDays   31.678735\n",
      "2               DaysWithFog   24.105733\n",
      "3                   IceDays    8.959750\n",
      "4                 FrostDays   95.680720\n",
      "5                  SnowDays   18.175335\n",
      "6               SummeryDays   49.022965\n",
      "7              TropicalDays    7.644485\n",
      "8                   DryDays  121.864186\n",
      "9   QuantityOfPrecipitation   58.794732\n",
      "10              Evaporation  228.474114\n",
      "\n",
      "Kaldırılan Değişken: Evaporation (VIF: 228.47)\n",
      "\n",
      "VIF Değerleri:\n",
      "                   feature         VIF\n",
      "0         WinterAvgMinTemp    5.770154\n",
      "1              SunlessDays   24.835685\n",
      "2              DaysWithFog   18.570384\n",
      "3                  IceDays    8.952509\n",
      "4                FrostDays   91.976330\n",
      "5                 SnowDays   17.080069\n",
      "6              SummeryDays   37.498618\n",
      "7             TropicalDays    7.589360\n",
      "8                  DryDays  107.073089\n",
      "9  QuantityOfPrecipitation   37.045999\n",
      "\n",
      "Kaldırılan Değişken: DryDays (VIF: 107.07)\n",
      "\n",
      "VIF Değerleri:\n",
      "                   feature        VIF\n",
      "0         WinterAvgMinTemp   5.285970\n",
      "1              SunlessDays  24.288366\n",
      "2              DaysWithFog  15.826930\n",
      "3                  IceDays   8.220732\n",
      "4                FrostDays  70.437482\n",
      "5                 SnowDays   9.521162\n",
      "6              SummeryDays  21.028107\n",
      "7             TropicalDays   7.242559\n",
      "8  QuantityOfPrecipitation  34.307275\n",
      "\n",
      "Kaldırılan Değişken: FrostDays (VIF: 70.44)\n",
      "\n",
      "VIF Değerleri:\n",
      "                   feature        VIF\n",
      "0         WinterAvgMinTemp   3.641282\n",
      "1              SunlessDays  18.482587\n",
      "2              DaysWithFog  13.444083\n",
      "3                  IceDays   7.768097\n",
      "4                 SnowDays   7.136210\n",
      "5              SummeryDays  20.268610\n",
      "6             TropicalDays   6.766762\n",
      "7  QuantityOfPrecipitation  32.249228\n",
      "\n",
      "Kaldırılan Değişken: QuantityOfPrecipitation (VIF: 32.25)\n",
      "\n",
      "VIF Değerleri:\n",
      "            feature        VIF\n",
      "0  WinterAvgMinTemp   2.605655\n",
      "1       SunlessDays  10.499653\n",
      "2       DaysWithFog   9.871949\n",
      "3           IceDays   7.744483\n",
      "4          SnowDays   6.964313\n",
      "5       SummeryDays  20.165629\n",
      "6      TropicalDays   6.332417\n",
      "\n",
      "Kaldırılan Değişken: SummeryDays (VIF: 20.17)\n",
      "\n",
      "VIF Değerleri:\n",
      "            feature       VIF\n",
      "0  WinterAvgMinTemp  2.598653\n",
      "1       SunlessDays  8.991033\n",
      "2       DaysWithFog  7.272247\n",
      "3           IceDays  7.414616\n",
      "4          SnowDays  6.854286\n",
      "5      TropicalDays  1.985650\n",
      "\n",
      "Final Model Sonuçları:\n",
      "                            OLS Regression Results                            \n",
      "==============================================================================\n",
      "Dep. Variable:      HeatingDegreeDays   R-squared:                       0.898\n",
      "Model:                            OLS   Adj. R-squared:                  0.876\n",
      "Method:                 Least Squares   F-statistic:                     40.88\n",
      "Date:                Tue, 17 Dec 2024   Prob (F-statistic):           1.38e-12\n",
      "Time:                        11:40:17   Log-Likelihood:                -204.98\n",
      "No. Observations:                  35   AIC:                             424.0\n",
      "Df Residuals:                      28   BIC:                             434.8\n",
      "Df Model:                           6                                         \n",
      "Covariance Type:            nonrobust                                         \n",
      "====================================================================================\n",
      "                       coef    std err          t      P>|t|      [0.025      0.975]\n",
      "------------------------------------------------------------------------------------\n",
      "const             2310.6069    145.789     15.849      0.000    2011.971    2609.242\n",
      "WinterAvgMinTemp   -49.0007     16.118     -3.040      0.005     -82.016     -15.985\n",
      "SunlessDays          6.9747      1.444      4.829      0.000       4.016       9.933\n",
      "DaysWithFog         -0.0088      0.884     -0.010      0.992      -1.820       1.803\n",
      "IceDays              8.7405      3.826      2.284      0.030       0.903      16.578\n",
      "SnowDays             5.6845      1.584      3.589      0.001       2.440       8.929\n",
      "TropicalDays         5.1644      5.723      0.902      0.375      -6.558      16.887\n",
      "==============================================================================\n",
      "Omnibus:                        0.733   Durbin-Watson:                   2.322\n",
      "Prob(Omnibus):                  0.693   Jarque-Bera (JB):                0.718\n",
      "Skew:                           0.004   Prob(JB):                        0.698\n",
      "Kurtosis:                       2.298   Cond. No.                         901.\n",
      "==============================================================================\n",
      "\n",
      "Notes:\n",
      "[1] Standard Errors assume that the covariance matrix of the errors is correctly specified.\n"
     ]
    }
   ],
   "source": [
    "# Backward Elimination kullanarak yeni değişken setini seç\n",
    "X_reduced = backward_elimination(X, y)\n",
    "\n",
    "# Yeni model oluştur ve eğit\n",
    "model = sm.OLS(y, add_constant(X_reduced)).fit()\n",
    "\n",
    "# Model sonuçlarını yazdır\n",
    "print(\"\\nFinal Model Sonuçları:\")\n",
    "print(model.summary())\n"
   ]
  },
  {
   "cell_type": "markdown",
   "id": "3b2ed643-ba8b-4c89-9a83-9adb6845dddf",
   "metadata": {},
   "source": [
    "#### Yorum: Hala yüksek VIF değerine sahp değişkenler var. Bu değişkenleri veri setinden çıkarmak bir seçenek olabilir. Ancak bu kararı vermeden önce Final seti ile regresyon modelini yeniden çalıştırarak model performansını kontrol etmemiz gerek.  "
   ]
  },
  {
   "cell_type": "markdown",
   "id": "ecb89ee7-22c4-4425-aaaa-a9edd7d7fb4a",
   "metadata": {},
   "source": [
    "Backward Elimination sonrası geriye kalan değişkenleri güncelliyoruz: Winter Average Min Temperature, Sunless Days, Days with Fog, Ice Days, Snow Days, Tropical Days"
   ]
  },
  {
   "cell_type": "code",
   "execution_count": 51,
   "id": "540f5816-70a7-4b10-ad36-564ebc7db8e1",
   "metadata": {},
   "outputs": [],
   "source": [
    "# HeatingDegreeDays bağımlı değişken\n",
    "y = df[\"HeatingDegreeDays\"]\n",
    "\n",
    "# Backward elimination sonrası kalan değişkenler\n",
    "X = df[['WinterAvgMinTemp', 'SunlessDays', 'DaysWithFog', 'IceDays','SnowDays', 'TropicalDays']]  "
   ]
  },
  {
   "cell_type": "markdown",
   "id": "8eb3b9df-b3e2-435f-be68-dc343b119d47",
   "metadata": {},
   "source": [
    "## Model Training 3.0: Eliminated Model\n",
    "\n",
    "Bu modeli eğitim ve test setlerine random ayıracağız"
   ]
  },
  {
   "cell_type": "code",
   "execution_count": 54,
   "id": "595bebd9-c09e-4655-aa20-6b4bcb0d9bde",
   "metadata": {},
   "outputs": [],
   "source": [
    "from sklearn.model_selection import train_test_split\n",
    "\n",
    "# Veriyi eğitim ve test setlerine ayırma\n",
    "X_train, X_test, y_train, y_test = train_test_split(X, y, test_size=0.2, random_state=42)\n"
   ]
  },
  {
   "cell_type": "code",
   "execution_count": 60,
   "id": "4f061b00-7ea7-4287-8b1b-be6527ecec96",
   "metadata": {},
   "outputs": [
    {
     "name": "stdout",
     "output_type": "stream",
     "text": [
      "Training MSE: 15.77217169431068\n",
      "Test MSE: 38.175703954140054\n",
      "Training MAPE: 0.004261275005700654\n",
      "Test MAPE: 0.010785274978758308\n",
      "Training R-squared: 0.9969232426570068\n",
      "Test R-squared: 0.9159785648513125\n"
     ]
    }
   ],
   "source": [
    "from sklearn.linear_model import LinearRegression\n",
    "from sklearn.metrics import mean_squared_error, mean_absolute_percentage_error, r2_score\n",
    "from sklearn.model_selection import train_test_split\n",
    "\n",
    "# Eğitim ve test setlerine ayırma\n",
    "X = df.drop(\"HeatingDegreeDays\", axis=1)\n",
    "y = df[\"HeatingDegreeDays\"]\n",
    "X_train, X_test, y_train, y_test = train_test_split(X, y, test_size=0.2, random_state=42)\n",
    "\n",
    "# Model oluşturma ve eğitme\n",
    "model = LinearRegression()\n",
    "model.fit(X_train, y_train)\n",
    "\n",
    "# Tahminleri oluşturma\n",
    "y_train_pred = model.predict(X_train)  # Eğitim seti için tahminler\n",
    "y_test_pred = model.predict(X_test)    # Test seti için tahminler\n",
    "\n",
    "# Performans metriklerini hesaplama\n",
    "mse_train = mean_squared_error(y_train, y_train_pred, squared=False)\n",
    "mse_test = mean_squared_error(y_test, y_test_pred, squared=False)\n",
    "mape_train = mean_absolute_percentage_error(y_train, y_train_pred)\n",
    "mape_test = mean_absolute_percentage_error(y_test, y_test_pred)\n",
    "r2_train = r2_score(y_train, y_train_pred)\n",
    "r2_test = r2_score(y_test, y_test_pred)\n",
    "\n",
    "# Sonuçları yazdırma\n",
    "print(f\"Training MSE: {mse_train}\")\n",
    "print(f\"Test MSE: {mse_test}\")\n",
    "print(f\"Training MAPE: {mape_train}\")\n",
    "print(f\"Test MAPE: {mape_test}\")\n",
    "print(f\"Training R-squared: {r2_train}\")\n",
    "print(f\"Test R-squared: {r2_test}\")\n",
    "\n"
   ]
  },
  {
   "cell_type": "markdown",
   "id": "3f41828e-da9a-4bff-bed9-95ea9cc644bd",
   "metadata": {},
   "source": [
    "### Sonuç: Backward eliminetion öncesi ve sonrası modellerin performansı"
   ]
  },
  {
   "cell_type": "code",
   "execution_count": 70,
   "id": "feddbd1b-eb03-4b40-89cc-19273a2a0a09",
   "metadata": {},
   "outputs": [
    {
     "name": "stdout",
     "output_type": "stream",
     "text": [
      "                Model  Train MSE  Test MSE  Train R²  Test R²\n",
      "0    Original Set V.1     248.76   1457.38      0.99     0.91\n",
      "1  Eliminated Set V.3      15.77     38.17      0.99     0.91\n"
     ]
    }
   ],
   "source": [
    "\n",
    "data = {\n",
    "    \"Model\": [\"Original Set V.1\", \"Eliminated Set V.3\"], \n",
    "    \"Train MSE\": [248.76, 15.77],    # Model 1 ve Model3 için Train MSE değerleri\n",
    "    \"Test MSE\": [1457.38, 38.17],     # Model 1 ve Model3 için Test MSE değerleri\n",
    "    \"Train R²\": [0.99, 0.99],         # Model 1 ve Model3 için Train R² değerleri\n",
    "    \"Test R²\": [0.91, 0.91]           # Model 1 ve Model3 için Test R² değerleri\n",
    "}\n",
    "\n",
    "# Verileri bir DataFrame'e dönüştürme\n",
    "comparison_df = pd.DataFrame(data)\n",
    "\n",
    "# Tabloyu yazdırma\n",
    "print(comparison_df)"
   ]
  },
  {
   "cell_type": "markdown",
   "id": "c79d3d8b-8776-47d5-b5b6-ad9e366269d5",
   "metadata": {},
   "source": [
    "### HDD için model eğitiminin sonu "
   ]
  },
  {
   "cell_type": "code",
   "execution_count": null,
   "id": "158113d2-159e-4ed1-9c65-bb33a36f1eb3",
   "metadata": {},
   "outputs": [],
   "source": []
  }
 ],
 "metadata": {
  "kernelspec": {
   "display_name": "Python 3 (ipykernel)",
   "language": "python",
   "name": "python3"
  },
  "language_info": {
   "codemirror_mode": {
    "name": "ipython",
    "version": 3
   },
   "file_extension": ".py",
   "mimetype": "text/x-python",
   "name": "python",
   "nbconvert_exporter": "python",
   "pygments_lexer": "ipython3",
   "version": "3.11.5"
  }
 },
 "nbformat": 4,
 "nbformat_minor": 5
}
