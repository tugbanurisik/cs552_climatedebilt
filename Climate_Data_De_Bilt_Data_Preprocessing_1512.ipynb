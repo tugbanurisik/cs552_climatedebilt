{
 "cells": [
  {
   "cell_type": "markdown",
   "id": "e7dd4fb5-ed08-4f92-adc9-a18477420c12",
   "metadata": {},
   "source": [
    "# CLIMATE DATA DE BILT "
   ]
  },
  {
   "cell_type": "markdown",
   "id": "27f95fcc-d51d-4dc2-a7a1-1828f8130d4f",
   "metadata": {},
   "source": [
    "Bu notebook, Hollanda'daki 1800-2014 yılları arasındaki iklim normallerinin kaydedildiği bir veri seti kullanılarak iklim verilerinin birbiriyle ilişkisini analiz etmek ve bir tahmin modeli gelistirmek amacıyla **veri işleme** ve **Python uygulamaları** üzerine bir çalışma içermektedir.\n",
    "\n",
    "##### Bu notebook spesifik olarak Data Preprocessing kısmına yoğunlaşmaktadır. Data Analysis ve diğer adımlar başka notebooklarda yapılacaktır."
   ]
  },
  {
   "cell_type": "code",
   "execution_count": 3,
   "id": "b8775e8c-5fa6-4f0e-b7f6-97b8af89c5b0",
   "metadata": {},
   "outputs": [],
   "source": [
    "import pandas as pd\n",
    "import requests\n",
    "import numpy as np"
   ]
  },
  {
   "cell_type": "code",
   "execution_count": 5,
   "id": "ce4b7357-ac0d-4ddb-9852-edac4cd9f925",
   "metadata": {},
   "outputs": [],
   "source": [
    "import matplotlib.pyplot as plt"
   ]
  },
  {
   "cell_type": "code",
   "execution_count": 7,
   "id": "78ea2218-9064-4bd2-ae75-59d08029e20d",
   "metadata": {},
   "outputs": [],
   "source": [
    "# Excel dosyasını içe aktarma\n",
    "file_path = \"veri.xlsx\"\n",
    "df = pd.read_excel(file_path)"
   ]
  },
  {
   "cell_type": "code",
   "execution_count": 9,
   "id": "241e8bd8-3aa7-436c-852b-e4f079433662",
   "metadata": {},
   "outputs": [
    {
     "name": "stdout",
     "output_type": "stream",
     "text": [
      "(217, 21)\n"
     ]
    }
   ],
   "source": [
    "#Veri setimin boyutunu (satır, sütun) olarak kontrol ediyorum.\n",
    "\n",
    "print(df.shape)"
   ]
  },
  {
   "cell_type": "code",
   "execution_count": 11,
   "id": "ec4d5b93-cb7b-43a8-bc26-6b2720fac153",
   "metadata": {},
   "outputs": [
    {
     "data": {
      "text/plain": [
       "ID                                     int64\n",
       "Periods                               object\n",
       "YearAverage_1                        float64\n",
       "WinterAverage_2                      float64\n",
       "SummerAverage_3                      float64\n",
       "WinterAverageMinimumTemperature_4    float64\n",
       "SummerAverageMaximumTemperature_5    float64\n",
       "IceDays_6                            float64\n",
       "FrostDays_7                          float64\n",
       "SummeryDays_8                        float64\n",
       "TropicalDays_9                       float64\n",
       "HeatingDegreeDays_10                 float64\n",
       "QuantityOfPrecipitation_11           float64\n",
       "DaysWithPrecipitation_12             float64\n",
       "SnowDays_13                          float64\n",
       "DryDays_14                           float64\n",
       "DaysWithFog_15                       float64\n",
       "Evaporation_16                       float64\n",
       "RelativeHumidity_17                  float64\n",
       "HoursOfSunshine_18                   float64\n",
       "SunlessDays_19                       float64\n",
       "dtype: object"
      ]
     },
     "execution_count": 11,
     "metadata": {},
     "output_type": "execute_result"
    }
   ],
   "source": [
    "#Data setimin içindeki veri tiplerini görmek istiyorum\n",
    "\n",
    "df.dtypes"
   ]
  },
  {
   "cell_type": "code",
   "execution_count": 13,
   "id": "48de226e-ac2c-4310-89b2-d24d46aec9d5",
   "metadata": {},
   "outputs": [
    {
     "name": "stdout",
     "output_type": "stream",
     "text": [
      "   ID   Periods  YearAverage_1  WinterAverage_2  SummerAverage_3  \\\n",
      "0   0  1971X000            9.8              3.3             16.6   \n",
      "1   1  1981X000           10.1              3.4             17.0   \n",
      "2   2  1800JJ00            NaN             -1.0             15.1   \n",
      "3   3  1801JJ00            NaN              1.7             15.2   \n",
      "4   4  1802JJ00            NaN              1.1             15.3   \n",
      "\n",
      "   WinterAverageMinimumTemperature_4  SummerAverageMaximumTemperature_5  \\\n",
      "0                                0.4                               21.4   \n",
      "1                                0.5                               21.9   \n",
      "2                                NaN                                NaN   \n",
      "3                                NaN                                NaN   \n",
      "4                                NaN                                NaN   \n",
      "\n",
      "   IceDays_6  FrostDays_7  SummeryDays_8  ...  HeatingDegreeDays_10  \\\n",
      "0        8.0         58.0           22.0  ...                3075.0   \n",
      "1        8.0         58.0           26.0  ...                2884.0   \n",
      "2        NaN          NaN            NaN  ...                   NaN   \n",
      "3        NaN          NaN            NaN  ...                   NaN   \n",
      "4        NaN          NaN            NaN  ...                   NaN   \n",
      "\n",
      "   QuantityOfPrecipitation_11  DaysWithPrecipitation_12  SnowDays_13  \\\n",
      "0                       827.0                     131.0         25.0   \n",
      "1                       887.0                     131.0         25.0   \n",
      "2                         NaN                       NaN          NaN   \n",
      "3                         NaN                       NaN          NaN   \n",
      "4                         NaN                       NaN          NaN   \n",
      "\n",
      "   DryDays_14  DaysWithFog_15  Evaporation_16  RelativeHumidity_17  \\\n",
      "0       109.0            65.0           543.0                 82.0   \n",
      "1       122.0            63.0           559.0                 82.0   \n",
      "2         NaN             NaN             NaN                  NaN   \n",
      "3         NaN             NaN             NaN                  NaN   \n",
      "4         NaN             NaN             NaN                  NaN   \n",
      "\n",
      "   HoursOfSunshine_18  SunlessDays_19  \n",
      "0              1524.0            76.0  \n",
      "1              1602.0            61.0  \n",
      "2                 NaN             NaN  \n",
      "3                 NaN             NaN  \n",
      "4                 NaN             NaN  \n",
      "\n",
      "[5 rows x 21 columns]\n"
     ]
    }
   ],
   "source": [
    "#Ilk 5 satırı görmek istiyorum\n",
    "\n",
    "print(df.head())"
   ]
  },
  {
   "cell_type": "code",
   "execution_count": 15,
   "id": "43593edd-9571-4a1b-9258-74fec99ac51b",
   "metadata": {},
   "outputs": [
    {
     "name": "stdout",
     "output_type": "stream",
     "text": [
      "ID                                     0\n",
      "Periods                                0\n",
      "YearAverage_1                        100\n",
      "WinterAverage_2                        0\n",
      "SummerAverage_3                        0\n",
      "WinterAverageMinimumTemperature_4    180\n",
      "SummerAverageMaximumTemperature_5    180\n",
      "IceDays_6                            151\n",
      "FrostDays_7                          151\n",
      "SummeryDays_8                        151\n",
      "TropicalDays_9                       180\n",
      "HeatingDegreeDays_10                 140\n",
      "QuantityOfPrecipitation_11           106\n",
      "DaysWithPrecipitation_12             171\n",
      "SnowDays_13                          180\n",
      "DryDays_14                           181\n",
      "DaysWithFog_15                       180\n",
      "Evaporation_16                       180\n",
      "RelativeHumidity_17                  180\n",
      "HoursOfSunshine_18                   100\n",
      "SunlessDays_19                       171\n",
      "dtype: int64\n"
     ]
    }
   ],
   "source": [
    "#NaN şeklinde gösterilen kısımlar eksik veri. Veri setimde her sütunda toplam kaç eksik veri olduğunu kontrol ediyorum.\n",
    "\n",
    "print(df.isnull().sum())"
   ]
  },
  {
   "cell_type": "code",
   "execution_count": 17,
   "id": "9ca8d1f4-ccfb-404c-9c9c-450f55af6b64",
   "metadata": {},
   "outputs": [
    {
     "data": {
      "image/png": "[encoded data removed]",
      "text/plain": [
       "<Figure size 640x480 with 1 Axes>"
      ]
     },
     "metadata": {},
     "output_type": "display_data"
    }
   ],
   "source": [
    "# Eksik verileri görselleştirmek için ısı haritası kullanıyorum.\n",
    "\n",
    "import seaborn as sns\n",
    "\n",
    "sns.heatmap(df.isnull(), cbar=False, cmap='viridis')\n",
    "plt.show()"
   ]
  },
  {
   "cell_type": "markdown",
   "id": "be700406-d0c5-43e4-84a9-cffd95023073",
   "metadata": {},
   "source": [
    "YORUMLAR\n",
    "\n",
    "Veri setini aldığımız sitedeki açıklamaya göre ve [17] numaralı hücrede gördüğümüz üzere şu sonuçlara varmaktayız:\n",
    "\n",
    "1. 1800 yılından 2014 yılına kadar verilerin toplandığı bu veri setinde toplam 214+2 = 216 yıl için iklim verisi girilmiş.\n",
    "\n",
    "a) Winter Average Temperature ve Summer Average Temperature verileri 1800 yılından başlamakta. Tüm sütunlar dolu.\n",
    "\n",
    "b) Yearly Average Temperature ve Hours of Sunshine verilerinin ilk 99 sütunu boş. Veriler 1900 yılından itibaren başlamakta.\n",
    "\n",
    "c) Gün bazında veriler çoğunluk olarak 1940 ve 1950 yılından itibaren başlamakta.\n",
    "\n",
    "d) Tümüyle tamamlanmış veriler 1980 ve sonrasına ait.\n",
    "\n",
    "2. Data setindeki veriler: 4 ana başlığa dağılıyor:\n",
    "\n",
    "a) Sıcaklık bazında veriler: Yearly Avg Temp, Winter Avg Temp, Summer Avg Temp, Winter Avg Min Temp ve Summer Avg Max Temp.\n",
    "\n",
    "b) Gün bazında veriler: Ice Days, Frost Days, Summery Days, Tropical Days, Snow Days, Heating Degree Days, Days with Precipitation, Days with Fog, Dry Days, Sunless Days\n",
    "\n",
    "c) Saat bazında veriler: Hours of Sunshine\n",
    "\n",
    "d) Diğer: Quantity of Precipitation (Birimi bilinmiyor/mm,cm,lt per sqm olabilir), Evaporation (Birimi bilinmiyor), Relative Humidity (%)\n",
    "\n",
    "Verilerin yıllara göre dağılımını daha iyi anlayabilmek adına filtreleme kullanılabilir. Birinci filtreleme eksik veri sayısı bazında olmalı. Ikinci filtreleme tür bazında olabilir. Böylelikle değişkenlerin kendi içlerindeki korelasyonunu daha iyi gözlemleyebiliriz.\n",
    "\n",
    "3. Periods değişkeninin türü object olarak nitelendirilmiş. Ancak bu değişken aslında yılları belirtiyor.\n",
    "\n",
    "Periods değişkeninin içeriği, '1971X000' gibi bir formata sahip. Bu değerin yıl kısmının alınıp diğer kısmın temizlenmesi için düzenleme yapılması gerekmekte. Bu durumda yıl kısmını almak için metin dilimleme (str slicing) kullanılacak.\n",
    "\n",
    "4. ID değişkeni veri sırasını belirtiyor.\n",
    "\n",
    "ID değişkeni sadece verilerin sırasını belirtiyor ve veri setine aslında bir katkı sağlamamakta. Bu tür gereksiz sütunlar, modelleme ve analiz aşamalarında karmaşıklığı artırabilir ve verinin okunabilirliğini azaltabilir. Bu değişken veri setinden kaldırılacak.\n",
    "\n",
    "### SONUÇ:\n",
    "\n",
    "1. Veri setindeki girdisi olmayan veriler temizlenecek.\n",
    "2. Periods değişkeninin türünü düzeltilecek ve ID değişkenini silinecek.\n",
    "3. Diğer değişkenlerin isimleri daha sonra karışıklığa sebep olmasın diye VeriTürü_Sayı formatı kaldırılacak ve isimleri daha açıklayıcı bir şekilde güncellenecek. Örn: YearAverage_1 değişkeninin ismi Year_Average_Temperature olarak değiştirilecek."
   ]
  },
  {
   "cell_type": "markdown",
   "id": "7a32e717-5a43-46e0-9ecc-129a482cad2e",
   "metadata": {},
   "source": [
    "## DATA PREPROCESSING"
   ]
  },
  {
   "cell_type": "markdown",
   "id": "4cc36a5f-73ca-4e33-b1cb-9f0530b691f5",
   "metadata": {},
   "source": [
    "### 1. Adım: ID değişkenini temizleme"
   ]
  },
  {
   "cell_type": "code",
   "execution_count": 22,
   "id": "0b0c38f2-0385-41d1-b677-e228ec15c982",
   "metadata": {},
   "outputs": [
    {
     "name": "stdout",
     "output_type": "stream",
     "text": [
      "    Periods  YearAverage_1  WinterAverage_2  SummerAverage_3  \\\n",
      "0  1971X000            9.8              3.3             16.6   \n",
      "1  1981X000           10.1              3.4             17.0   \n",
      "2  1800JJ00            NaN             -1.0             15.1   \n",
      "3  1801JJ00            NaN              1.7             15.2   \n",
      "4  1802JJ00            NaN              1.1             15.3   \n",
      "\n",
      "   WinterAverageMinimumTemperature_4  SummerAverageMaximumTemperature_5  \\\n",
      "0                                0.4                               21.4   \n",
      "1                                0.5                               21.9   \n",
      "2                                NaN                                NaN   \n",
      "3                                NaN                                NaN   \n",
      "4                                NaN                                NaN   \n",
      "\n",
      "   IceDays_6  FrostDays_7  SummeryDays_8  TropicalDays_9  \\\n",
      "0        8.0         58.0           22.0             3.0   \n",
      "1        8.0         58.0           26.0             4.0   \n",
      "2        NaN          NaN            NaN             NaN   \n",
      "3        NaN          NaN            NaN             NaN   \n",
      "4        NaN          NaN            NaN             NaN   \n",
      "\n",
      "   HeatingDegreeDays_10  QuantityOfPrecipitation_11  DaysWithPrecipitation_12  \\\n",
      "0                3075.0                       827.0                     131.0   \n",
      "1                2884.0                       887.0                     131.0   \n",
      "2                   NaN                         NaN                       NaN   \n",
      "3                   NaN                         NaN                       NaN   \n",
      "4                   NaN                         NaN                       NaN   \n",
      "\n",
      "   SnowDays_13  DryDays_14  DaysWithFog_15  Evaporation_16  \\\n",
      "0         25.0       109.0            65.0           543.0   \n",
      "1         25.0       122.0            63.0           559.0   \n",
      "2          NaN         NaN             NaN             NaN   \n",
      "3          NaN         NaN             NaN             NaN   \n",
      "4          NaN         NaN             NaN             NaN   \n",
      "\n",
      "   RelativeHumidity_17  HoursOfSunshine_18  SunlessDays_19  \n",
      "0                 82.0              1524.0            76.0  \n",
      "1                 82.0              1602.0            61.0  \n",
      "2                  NaN                 NaN             NaN  \n",
      "3                  NaN                 NaN             NaN  \n",
      "4                  NaN                 NaN             NaN  \n"
     ]
    }
   ],
   "source": [
    "# 'ID' sütununu veri setinden kaldırma\n",
    "df.drop(columns=['ID'], inplace=True)\n",
    "\n",
    "# Değişiklikleri kontrol ediyoruz\n",
    "print(df.head())"
   ]
  },
  {
   "cell_type": "code",
   "execution_count": 24,
   "id": "2e1f7bac-d37a-40cd-aa0a-74489a06c402",
   "metadata": {},
   "outputs": [
    {
     "name": "stdout",
     "output_type": "stream",
     "text": [
      "(217, 20)\n"
     ]
    }
   ],
   "source": [
    "# Veri setinin yeni boyutunu (satır, sütun) olarak kontrol ediyoruz.\n",
    "\n",
    "print(df.shape)"
   ]
  },
  {
   "cell_type": "markdown",
   "id": "5fc9fc2a-a2a7-4b56-84a6-1f196f3244b2",
   "metadata": {},
   "source": [
    "### 2. Adım: Periods değişkeni - Metin dilimleme (String Slicing)"
   ]
  },
  {
   "cell_type": "code",
   "execution_count": 27,
   "id": "2524823b-cc26-4b1b-99e7-82bdebd9459f",
   "metadata": {},
   "outputs": [
    {
     "name": "stdout",
     "output_type": "stream",
     "text": [
      "0    1971\n",
      "1    1981\n",
      "2    1800\n",
      "3    1801\n",
      "4    1802\n",
      "Name: Year, dtype: int64\n"
     ]
    }
   ],
   "source": [
    "# Periods değişkeninin ilk 4 karakterini alarak yılı çek. Yeni değişken için \"Year\" ismini kullan.  \n",
    "\n",
    "df['Year'] = df['Periods'].str[:4].astype(int)\n",
    "\n",
    "df.drop('Periods', axis=1, inplace=True)\n",
    "\n",
    "#Yeni 'Year' değişkenini kontrol et.\n",
    "\n",
    "print(df['Year'].head())"
   ]
  },
  {
   "cell_type": "code",
   "execution_count": 29,
   "id": "f641c6a0-c6e3-483c-9132-f4be32ca81e6",
   "metadata": {},
   "outputs": [
    {
     "data": {
      "text/plain": [
       "YearAverage_1                        float64\n",
       "WinterAverage_2                      float64\n",
       "SummerAverage_3                      float64\n",
       "WinterAverageMinimumTemperature_4    float64\n",
       "SummerAverageMaximumTemperature_5    float64\n",
       "IceDays_6                            float64\n",
       "FrostDays_7                          float64\n",
       "SummeryDays_8                        float64\n",
       "TropicalDays_9                       float64\n",
       "HeatingDegreeDays_10                 float64\n",
       "QuantityOfPrecipitation_11           float64\n",
       "DaysWithPrecipitation_12             float64\n",
       "SnowDays_13                          float64\n",
       "DryDays_14                           float64\n",
       "DaysWithFog_15                       float64\n",
       "Evaporation_16                       float64\n",
       "RelativeHumidity_17                  float64\n",
       "HoursOfSunshine_18                   float64\n",
       "SunlessDays_19                       float64\n",
       "Year                                   int64\n",
       "dtype: object"
      ]
     },
     "execution_count": 29,
     "metadata": {},
     "output_type": "execute_result"
    }
   ],
   "source": [
    "#Data setimin içindeki tüm veri tiplerini tekrar kontrol ediyorum \n",
    "\n",
    "df.dtypes"
   ]
  },
  {
   "cell_type": "markdown",
   "id": "4d1079be-ee40-49b0-a220-2bc8e3e5a1c9",
   "metadata": {},
   "source": [
    "### 3. Adım: Değişkenlerin isimlerini değiştirme"
   ]
  },
  {
   "cell_type": "code",
   "execution_count": 33,
   "id": "3f4bd215-9fb2-4b2b-bc1b-689e5a13d159",
   "metadata": {},
   "outputs": [
    {
     "name": "stdout",
     "output_type": "stream",
     "text": [
      "Index(['YearlyAvgTemp', 'WinterAvgTemp', 'SummerAvgTemp', 'WinterAvgMinTemp',\n",
      "       'SummerAvgMaxTemp', 'IceDays', 'FrostDays', 'SummeryDays',\n",
      "       'TropicalDays', 'HeatingDegreeDays', 'QuantityOfPrecipitation',\n",
      "       'DaysWithPrecipitation', 'SnowDays', 'DryDays', 'DaysWithFog',\n",
      "       'Evaporation', 'RelativeHumidity', 'HoursOfSunshine', 'SunlessDays',\n",
      "       'Year'],\n",
      "      dtype='object')\n"
     ]
    }
   ],
   "source": [
    "# Sütunların adını değiştirme\n",
    "df.rename(columns={'YearAverage_1': 'YearlyAvgTemp','WinterAverage_2': 'WinterAvgTemp','SummerAverage_3': 'SummerAvgTemp','WinterAverageMinimumTemperature_4': 'WinterAvgMinTemp','SummerAverageMaximumTemperature_5': 'SummerAvgMaxTemp','IceDays_6':'IceDays','FrostDays_7':'FrostDays','SummeryDays_8':'SummeryDays','TropicalDays_9':'TropicalDays','HeatingDegreeDays_10':'HeatingDegreeDays','QuantityOfPrecipitation_11':'QuantityOfPrecipitation','DaysWithPrecipitation_12':'DaysWithPrecipitation','SnowDays_13':'SnowDays','DryDays_14':'DryDays','DaysWithFog_15':'DaysWithFog','Evaporation_16':'Evaporation','RelativeHumidity_17':'RelativeHumidity','HoursOfSunshine_18':'HoursOfSunshine','SunlessDays_19':'SunlessDays'}, inplace=True)\n",
    "\n",
    "# Değişikliğin doğruluğunu kontrol etmek için sütun adlarını görüntülüyoruz\n",
    "print(df.columns)"
   ]
  },
  {
   "cell_type": "markdown",
   "id": "6803473d-a6b8-4a26-ac6a-8c8fd7a97967",
   "metadata": {},
   "source": [
    "### 4. Adım: Değişkenlerin açıklanması ve kategorize edilmesi\n",
    "\n",
    "#### Sıcaklık Bazındaki Değişkenler\n",
    "\n",
    "Yearly Average Temperature: Yıllık ortalama sıcaklık verisi\n",
    "\n",
    "Winter Average Temperature: Kış mevsimi ortalama sıcaklık verisi\n",
    "\n",
    "Summer Average Temperature: Yaz mevsimi ortalama sıcaklık verisi\n",
    "\n",
    "Winter Average Minimum Temperature: Kış mevsimi ortalama minimum sıcaklık verisi\n",
    "\n",
    "Summer Average Temperature: Yaz mevsimi ortalama maximum sıcaklık verisi\n",
    "\n",
    "#### Zaman (Gün, saat) Bazındaki Değişkenler\n",
    "\n",
    "Bu değişkenler Hollanda ikliminin (sık yağışlı, serin ve yüksek nemli) karakteristiği dolayısıyla hava olaylarının sıklığı ve gelişme sırası göz önünde bulundurularak sıralandırılmıştır. \n",
    "\n",
    "Sunless Days: Güneş ışığının olmadığı, bulutlu ve kapalı havanın hakim olduğu günler. Yağışı tetikler.\n",
    "\n",
    "Days with Precipitation: Yağışlı günler. \n",
    "\n",
    "Days with Fog: Nemli ve genellikle soğuk hava koşullarında oluşan sisli günler. Yağış sonrasında veya beraberinde görülebilir. \n",
    "\n",
    "Ice Days: Buzlu günler. Gündüz sıcaklıklarının sıfırın altına düştüğü günler.\n",
    "\n",
    "Frost Days: Donlu günler. Gece sıcaklıklarının sıfırın altına düştüğü günler. Buzlu günler ile örtüşebilir, gece soğukluğu daha belirgindir.\n",
    "\n",
    "Snow Days: Kar yağışı olan günler. Genellikle buzlu ve donlu günlerden sonra ya da bu günlerle birlikte görülebilir. \n",
    "\n",
    "Hours of Sunshine: Güneşli saatler. Günün sıcaklığı ile ilgili bir gösterge olabilir ancak doğrudan bir 'sıcak gün' tanımı oluşturmaz. Güneşin gün içerisinde ne kadar göründüğünü belirtir. \n",
    "\n",
    "Summery Days: Sıcak günler.\n",
    "\n",
    "Tropical Days: Aşırı sıcak ve nemli günler.\n",
    "\n",
    "Dry Days: Kurak, yağışsız havanın hakim olduğu günler.\n",
    "\n",
    "#### Diğer kategorideki değişkenler\n",
    "\n",
    "Relative Humidity (%): Bağıl Nem. Havanın ne kadar su buharı taşıdığını ve yağış olasılığını gösterir.\n",
    "\n",
    "Quantiy of Precipitation: Yağış miktarı. Bağıl nemin yüksekliği ile doğrudan ilişkili. Bu veri setindeki birimi bilinmiyor.\n",
    "\n",
    "Evaporation: Buharlaşma oranı. Nem ve yağış oranı ile ters orantılıdır. Eğer hava nemliyse, buharlaşma oranı düşer çünkü hava zaten su buharına doygundur. \n",
    "\n",
    "#### Gün-Derece (Degree Days)\n",
    "\n",
    "Gün derece (Degree Days): Binaların ısıtma veya soğutma ihtiyacını ölçmek için kullanılan bir ölçüm. Hava sıcaklıklarının referans sıcaklıktan ne kadar saptığını gösterir.\n",
    "\n",
    "Heating Degree Days: Isıtma gün derecesi. Sıcaklıklar referans sıcaklığın altında olduğunda, mekanların ısıtılması gerektiğini gösterir.\n",
    "\n",
    "Cooling Degree Days: Soğutma gün derecesi. Sıcaklıklar referans sıcaklığın üstünde olduğunda, mekanların soğutulması gerektiğini gösterir.\n",
    "\n",
    "##### Not: Bu veri setinde Cooling Degree Days değişkeni yok. Daha sonraki adımlarda bu veri eklenmesi olası. \n"
   ]
  },
  {
   "cell_type": "markdown",
   "id": "94c47f2a-03be-41af-b032-9f6102f559f4",
   "metadata": {},
   "source": [
    "### 5. Adım: Değişkenlerin sıralamasını değiştirme\n",
    "\n",
    "Veri setindeki değişkenlerin yerleri 4. Adımdaki bağlamlar referans alınarak değiştirilecek. \n",
    "\n",
    "Böylelikle değişkenler arası ilişkiler daha rahat gözlemlenebilir. "
   ]
  },
  {
   "cell_type": "code",
   "execution_count": 42,
   "id": "909fbbcd-902b-480d-8387-76af4fe6aad3",
   "metadata": {},
   "outputs": [
    {
     "name": "stdout",
     "output_type": "stream",
     "text": [
      "     Year  YearlyAvgTemp  WinterAvgTemp  WinterAvgMinTemp  SummerAvgTemp  \\\n",
      "0    1971            9.8            3.3               0.4           16.6   \n",
      "1    1981           10.1            3.4               0.5           17.0   \n",
      "2    1800            NaN           -1.0               NaN           15.1   \n",
      "3    1801            NaN            1.7               NaN           15.2   \n",
      "4    1802            NaN            1.1               NaN           15.3   \n",
      "..    ...            ...            ...               ...            ...   \n",
      "212  2010            9.1            1.1              -1.5           17.7   \n",
      "213  2011           10.9            2.3              -0.5           16.3   \n",
      "214  2012           10.3            4.1               1.1           16.9   \n",
      "215  2013            9.8            2.9               0.4           17.5   \n",
      "216  2014           11.7            6.0               3.3           17.4   \n",
      "\n",
      "     SummerAvgMaxTemp  SunlessDays  DaysWithPrecipitation  DaysWithFog  \\\n",
      "0                21.4         76.0                  131.0         65.0   \n",
      "1                21.9         61.0                  131.0         63.0   \n",
      "2                 NaN          NaN                    NaN          NaN   \n",
      "3                 NaN          NaN                    NaN          NaN   \n",
      "4                 NaN          NaN                    NaN          NaN   \n",
      "..                ...          ...                    ...          ...   \n",
      "212              22.7         62.0                  123.0        100.0   \n",
      "213              20.6         48.0                  127.0         98.0   \n",
      "214              21.4         48.0                  140.0         88.0   \n",
      "215              22.5         57.0                  139.0         85.0   \n",
      "216              22.0         42.0                  124.0         88.0   \n",
      "\n",
      "     IceDays  FrostDays  SnowDays  HoursOfSunshine  SummeryDays  TropicalDays  \\\n",
      "0        8.0       58.0      25.0           1524.0         22.0           3.0   \n",
      "1        8.0       58.0      25.0           1602.0         26.0           4.0   \n",
      "2        NaN        NaN       NaN              NaN          NaN           NaN   \n",
      "3        NaN        NaN       NaN              NaN          NaN           NaN   \n",
      "4        NaN        NaN       NaN              NaN          NaN           NaN   \n",
      "..       ...        ...       ...              ...          ...           ...   \n",
      "212     29.0       89.0      58.0           1752.0         27.0           3.0   \n",
      "213      4.0       50.0       9.0           1788.0         20.0           1.0   \n",
      "214     13.0       50.0      10.0           1610.0         24.0           2.0   \n",
      "215     13.0       69.0      32.0           1628.0         27.0           7.0   \n",
      "216      0.0       26.0       3.0           1787.0         23.0           2.0   \n",
      "\n",
      "     DryDays  RelativeHumidity  QuantityOfPrecipitation  Evaporation  \\\n",
      "0      109.0              82.0                    827.0        543.0   \n",
      "1      122.0              82.0                    887.0        559.0   \n",
      "2        NaN               NaN                      NaN          NaN   \n",
      "3        NaN               NaN                      NaN          NaN   \n",
      "4        NaN               NaN                      NaN          NaN   \n",
      "..       ...               ...                      ...          ...   \n",
      "212    126.0              80.0                    901.0        590.0   \n",
      "213    147.0              81.0                    962.0        585.0   \n",
      "214    120.0              81.0                    973.0        564.0   \n",
      "215    139.0              80.0                    934.0        565.0   \n",
      "216    130.0              81.0                    952.0        607.0   \n",
      "\n",
      "     HeatingDegreeDays  \n",
      "0               3075.0  \n",
      "1               2884.0  \n",
      "2                  NaN  \n",
      "3                  NaN  \n",
      "4                  NaN  \n",
      "..                 ...  \n",
      "212             3321.0  \n",
      "213             2622.0  \n",
      "214             2879.0  \n",
      "215             3078.0  \n",
      "216             2385.0  \n",
      "\n",
      "[217 rows x 20 columns]\n"
     ]
    }
   ],
   "source": [
    "# Sütunları yeniden sıralama:\n",
    "df = df[[\"Year\", \"YearlyAvgTemp\", \"WinterAvgTemp\", \"WinterAvgMinTemp\", \"SummerAvgTemp\", \"SummerAvgMaxTemp\", \"SunlessDays\", \"DaysWithPrecipitation\", \"DaysWithFog\", \"IceDays\", \"FrostDays\", \"SnowDays\", \"HoursOfSunshine\", \"SummeryDays\", \"TropicalDays\", \"DryDays\", \"RelativeHumidity\", \"QuantityOfPrecipitation\", \"Evaporation\", \"HeatingDegreeDays\"]]\n",
    "\n",
    "# Yeni DataFrame'i görüntüle\n",
    "print(df)"
   ]
  },
  {
   "cell_type": "code",
   "execution_count": 44,
   "id": "03d83c27-ab71-4e93-bf58-a574dd2c0bf9",
   "metadata": {},
   "outputs": [
    {
     "data": {
      "image/png": "[encoded data removed]",
      "text/plain": [
       "<Figure size 640x480 with 1 Axes>"
      ]
     },
     "metadata": {},
     "output_type": "display_data"
    }
   ],
   "source": [
    "# Eksik verileri görselleştirmek için tekrar ısı haritası kullanıyorum.\n",
    "\n",
    "sns.heatmap(df.isnull(), cbar=False, cmap='viridis')\n",
    "plt.show()"
   ]
  },
  {
   "cell_type": "markdown",
   "id": "56b6fb4d-b831-41f9-8e75-0d92a15b6942",
   "metadata": {},
   "source": [
    "#### 6. Adım: Eksik ve yanıltıcı verilerin silinmesi\n",
    "\n",
    "Yukarıdaki ısı haritasında; mor renkler ile verilerin olduğu satır ve sütunlar, sarı renkler ile verilerin olmadığı (NaN) satır ve sütunlar gösterilmekte. Verilerin olmadığı satırları kaldırmak gerekmekte. \n"
   ]
  },
  {
   "cell_type": "markdown",
   "id": "9e6c0a5a-c090-43b1-af4e-4d23f7b411d3",
   "metadata": {},
   "source": [
    "    Isı haritasında görüldüğü üzere en az verisi girilmiş değişken Dry Days değişkeni. Dry Days değişkeni için ilk veri girdisi 180. satır sonrası girilmiş duruyor. 180. satır ve sonrasını yazdırarak veri girişinin tam olarak hangi yılda başladığını bulabiliriz."
   ]
  },
  {
   "cell_type": "code",
   "execution_count": 69,
   "id": "b53d24bf-bd69-498a-b379-37e71c381f08",
   "metadata": {},
   "outputs": [
    {
     "name": "stdout",
     "output_type": "stream",
     "text": [
      "     Year  YearlyAvgTemp  WinterAvgTemp  WinterAvgMinTemp  SummerAvgTemp  \\\n",
      "172  1970            9.1            0.1               NaN           16.7   \n",
      "173  1971            9.5            2.8               NaN           16.1   \n",
      "174  1972            8.8            3.2               NaN           15.4   \n",
      "175  1973            9.3            3.0               NaN           16.9   \n",
      "176  1974            9.7            4.2               NaN           15.5   \n",
      "177  1975            9.8            5.5               NaN           17.6   \n",
      "178  1976           10.0            3.5               NaN           18.4   \n",
      "179  1977            9.8            3.2               NaN           15.9   \n",
      "180  1978            9.0            3.0               NaN           15.2   \n",
      "181  1979            8.5           -0.8               NaN           15.5   \n",
      "182  1980            9.3            3.5               0.8           15.9   \n",
      "183  1981            9.2            2.6              -0.2           15.8   \n",
      "184  1982           10.1            1.1              -2.1           17.6   \n",
      "\n",
      "     SummerAvgMaxTemp  SunlessDays  DaysWithPrecipitation  DaysWithFog  \\\n",
      "172               NaN          NaN                    NaN          NaN   \n",
      "173               NaN         84.0                  111.0          NaN   \n",
      "174               NaN         85.0                  122.0          NaN   \n",
      "175               NaN         79.0                  125.0          NaN   \n",
      "176               NaN         81.0                  153.0          NaN   \n",
      "177               NaN         69.0                  118.0          NaN   \n",
      "178               NaN         64.0                  105.0          NaN   \n",
      "179               NaN         79.0                  145.0          NaN   \n",
      "180               NaN         92.0                  133.0          NaN   \n",
      "181               NaN         91.0                  147.0          NaN   \n",
      "182              20.3         87.0                  137.0         75.0   \n",
      "183              20.0         86.0                  146.0         80.0   \n",
      "184              24.5         67.0                  117.0         80.0   \n",
      "\n",
      "     IceDays  FrostDays  SnowDays  HoursOfSunshine  SummeryDays  TropicalDays  \\\n",
      "172     14.0       72.0       NaN           1490.0         24.0           NaN   \n",
      "173      9.0       66.0       NaN           1621.0         13.0           NaN   \n",
      "174      7.0       61.0       NaN           1469.0          9.0           NaN   \n",
      "175      3.0       70.0       NaN           1608.0         24.0           NaN   \n",
      "176      2.0       37.0       NaN           1528.0          7.0           NaN   \n",
      "177      0.0       58.0       NaN           1643.0         32.0           NaN   \n",
      "178      8.0       64.0       NaN           1813.0         45.0           NaN   \n",
      "179      3.0       47.0       NaN           1365.0          6.0           NaN   \n",
      "180     14.0       64.0       NaN           1317.0         13.0           NaN   \n",
      "181     25.0       83.0       NaN           1331.0         13.0           NaN   \n",
      "182     10.0       72.0      37.0           1427.0         12.0           0.0   \n",
      "183     12.0       73.0      46.0           1308.0         14.0           0.0   \n",
      "184     18.0       74.0      18.0           1649.0         32.0           6.0   \n",
      "\n",
      "     DryDays  RelativeHumidity  QuantityOfPrecipitation  Evaporation  \\\n",
      "172      NaN               NaN                    909.0          NaN   \n",
      "173      NaN               NaN                    562.0          NaN   \n",
      "174      NaN               NaN                    656.0          NaN   \n",
      "175      NaN               NaN                    780.0          NaN   \n",
      "176      NaN               NaN                    993.0          NaN   \n",
      "177      NaN               NaN                    628.0          NaN   \n",
      "178      NaN               NaN                    542.0          NaN   \n",
      "179      NaN               NaN                    813.0          NaN   \n",
      "180      NaN               NaN                    645.0          NaN   \n",
      "181      NaN               NaN                    873.0          NaN   \n",
      "182      NaN              85.0                    863.0        635.0   \n",
      "183     71.0              83.0                    992.0        599.0   \n",
      "184    145.0              81.0                    635.0        669.0   \n",
      "\n",
      "     HeatingDegreeDays  \n",
      "172             3295.0  \n",
      "173             3133.0  \n",
      "174             3379.0  \n",
      "175             3234.0  \n",
      "176             3033.0  \n",
      "177             3083.0  \n",
      "178             3097.0  \n",
      "179             2997.0  \n",
      "180             3304.0  \n",
      "181             3476.0  \n",
      "182             3301.0  \n",
      "183             3244.0  \n",
      "184             3005.0  \n"
     ]
    }
   ],
   "source": [
    "# Satır numaralarını bir liste olarak belirleyin\n",
    "satir_numaralari = [172, 173, 174, 175, 176, 177, 178, 179, 180, 181, 182, 183, 184] \n",
    "\n",
    "# Belirtilen satırları görüntülemek için iloc kullanıyorum\n",
    "secilen_satirlar = df.iloc[satir_numaralari]\n",
    "\n",
    "# Seçilen satırları yazdırıyorum \n",
    "print(secilen_satirlar)"
   ]
  },
  {
   "cell_type": "markdown",
   "id": "bf04811d-0e7d-4282-ae6c-cb974f084767",
   "metadata": {},
   "source": [
    "    Dry Days değişkeni için ilk veri girdisi 183. satırda yani 1981 yılında yapılmış. Önceki senelere ait verileri silebiliriz. \n"
   ]
  },
  {
   "cell_type": "code",
   "execution_count": 72,
   "id": "65d08967-52ae-4ff2-bf0d-8c7505aa740c",
   "metadata": {},
   "outputs": [
    {
     "name": "stdout",
     "output_type": "stream",
     "text": [
      "    Year  YearlyAvgTemp  WinterAvgTemp  WinterAvgMinTemp  SummerAvgTemp  \\\n",
      "0   1981           10.1            3.4               0.5           17.0   \n",
      "1   1981            9.2            2.6              -0.2           15.8   \n",
      "2   1982           10.1            1.1              -2.1           17.6   \n",
      "3   1983           10.1            3.5               0.7           18.2   \n",
      "4   1984            9.5            3.1               0.4           15.9   \n",
      "5   1985            8.5            0.2              -3.2           15.7   \n",
      "6   1986            9.0            1.5              -1.4           16.4   \n",
      "7   1987            8.9            1.5              -1.4           15.6   \n",
      "8   1988           10.3            5.0               2.3           15.8   \n",
      "9   1989           10.7            5.6               2.8           17.0   \n",
      "10  1990           10.9            6.0               3.2           16.8   \n",
      "11  1991            9.5            2.2              -0.9           16.6   \n",
      "12  1992           10.5            3.8               0.9           17.8   \n",
      "13  1993            9.6            3.7               1.1           15.7   \n",
      "14  1994           10.6            3.9               1.1           18.0   \n",
      "15  1995           10.4            5.3               2.3           18.2   \n",
      "16  1996            8.6           -0.1              -2.9           16.4   \n",
      "17  1997           10.3            1.9              -1.0           18.0   \n",
      "18  1998           10.4            5.4               2.3           16.2   \n",
      "19  1999           10.9            4.4               1.4           17.2   \n",
      "20  2000           10.9            5.0               2.1           16.4   \n",
      "21  2001           10.4            4.1               1.3           17.4   \n",
      "22  2002           10.8            4.8               1.7           17.6   \n",
      "23  2003           10.3            2.4              -0.9           18.6   \n",
      "24  2004           10.3            4.1               1.2           17.0   \n",
      "25  2005           10.7            3.6               0.8           16.9   \n",
      "26  2006           11.2            2.8               0.2           18.5   \n",
      "27  2007           11.2            5.7               3.0           17.2   \n",
      "28  2008           10.6            5.1               2.0           17.3   \n",
      "29  2009           10.5            2.2              -0.6           17.4   \n",
      "30  2010            9.1            1.1              -1.5           17.7   \n",
      "31  2011           10.9            2.3              -0.5           16.3   \n",
      "32  2012           10.3            4.1               1.1           16.9   \n",
      "33  2013            9.8            2.9               0.4           17.5   \n",
      "34  2014           11.7            6.0               3.3           17.4   \n",
      "\n",
      "    SummerAvgMaxTemp  SunlessDays  DaysWithPrecipitation  DaysWithFog  \\\n",
      "0               21.9         61.0                  131.0         63.0   \n",
      "1               20.0         86.0                  146.0         80.0   \n",
      "2               24.5         67.0                  117.0         80.0   \n",
      "3               23.9         69.0                  128.0         63.0   \n",
      "4               20.8         73.0                  131.0         73.0   \n",
      "5               20.2         86.0                  127.0         97.0   \n",
      "6               21.6         69.0                  117.0         65.0   \n",
      "7               19.9         87.0                  138.0         62.0   \n",
      "8               20.2         84.0                  151.0         53.0   \n",
      "9               22.5         70.0                  107.0         66.0   \n",
      "10              21.9         66.0                  124.0         46.0   \n",
      "11              21.1         73.0                  107.0         74.0   \n",
      "12              22.6         81.0                  133.0         50.0   \n",
      "13              20.0         79.0                  129.0         50.0   \n",
      "14              23.0         56.0                  142.0         52.0   \n",
      "15              23.4         43.0                  125.0         58.0   \n",
      "16              21.2         74.0                   98.0         49.0   \n",
      "17              22.9         54.0                  118.0         63.0   \n",
      "18              20.6         57.0                  165.0         46.0   \n",
      "19              22.4         50.0                  161.0         40.0   \n",
      "20              21.1         55.0                  158.0         45.0   \n",
      "21              22.4         56.0                  157.0         50.0   \n",
      "22              22.3         51.0                  139.0         93.0   \n",
      "23              24.5         45.0                  105.0        109.0   \n",
      "24              21.9         56.0                  128.0        111.0   \n",
      "25              21.8         31.0                  134.0         95.0   \n",
      "26              23.7         31.0                  124.0         48.0   \n",
      "27              21.7         48.0                  134.0        102.0   \n",
      "28              22.0         46.0                  132.0         95.0   \n",
      "29              22.4         37.0                  132.0         88.0   \n",
      "30              22.7         62.0                  123.0        100.0   \n",
      "31              20.6         48.0                  127.0         98.0   \n",
      "32              21.4         48.0                  140.0         88.0   \n",
      "33              22.5         57.0                  139.0         85.0   \n",
      "34              22.0         42.0                  124.0         88.0   \n",
      "\n",
      "    IceDays  FrostDays  SnowDays  HoursOfSunshine  SummeryDays  TropicalDays  \\\n",
      "0       8.0       58.0      25.0           1602.0         26.0           4.0   \n",
      "1      12.0       73.0      46.0           1308.0         14.0           0.0   \n",
      "2      18.0       74.0      18.0           1649.0         32.0           6.0   \n",
      "3       3.0       63.0      26.0           1550.0         40.0           7.0   \n",
      "4       3.0       56.0      28.0           1392.0         16.0           2.0   \n",
      "5      28.0       89.0      51.0           1390.0         15.0           1.0   \n",
      "6      19.0       73.0      36.0           1550.0         21.0           3.0   \n",
      "7      17.0       80.0      31.0           1308.0         11.0           0.0   \n",
      "8       0.0       34.0      23.0           1218.0         15.0           0.0   \n",
      "9       1.0       41.0      12.0           1719.0         34.0           3.0   \n",
      "10      0.0       33.0      15.0           1622.0         32.0           3.0   \n",
      "11      8.0       68.0      17.0           1530.0         26.0           1.0   \n",
      "12      6.0       34.0       9.0           1536.0         33.0           3.0   \n",
      "13      8.0       60.0      21.0           1494.0         13.0           0.0   \n",
      "14      7.0       48.0      12.0           1548.0         24.0           9.0   \n",
      "15     12.0       61.0      40.0           1814.0         41.0          11.0   \n",
      "16     25.0      101.0      32.0           1607.0         20.0           2.0   \n",
      "17     12.0       55.0       8.0           1693.0         28.0           6.0   \n",
      "18      6.0       41.0      20.0           1354.0         17.0           5.0   \n",
      "19      2.0       45.0      31.0           1720.0         31.0           3.0   \n",
      "20      2.0       35.0      12.0           1515.0         22.0           2.0   \n",
      "21      3.0       66.0      32.0           1623.0         24.0           6.0   \n",
      "22      6.0       40.0       5.0           1688.0         18.0           4.0   \n",
      "23      6.0       75.0      20.0           2022.0         48.0          13.0   \n",
      "24      3.0       65.0      23.0           1623.0         25.0           3.0   \n",
      "25      3.0       48.0      34.0           1789.0         34.0           4.0   \n",
      "26      2.0       60.0      17.0           1725.0         51.0          13.0   \n",
      "27      2.0       35.0       8.0           1690.0         20.0           1.0   \n",
      "28      3.0       55.0      17.0           1735.0         26.0           1.0   \n",
      "29      9.0       56.0      28.0           1838.0         27.0           1.0   \n",
      "30     29.0       89.0      58.0           1752.0         27.0           3.0   \n",
      "31      4.0       50.0       9.0           1788.0         20.0           1.0   \n",
      "32     13.0       50.0      10.0           1610.0         24.0           2.0   \n",
      "33     13.0       69.0      32.0           1628.0         27.0           7.0   \n",
      "34      0.0       26.0       3.0           1787.0         23.0           2.0   \n",
      "\n",
      "    DryDays  RelativeHumidity  QuantityOfPrecipitation  Evaporation  \\\n",
      "0     122.0              82.0                    887.0        559.0   \n",
      "1      71.0              83.0                    992.0        599.0   \n",
      "2     145.0              81.0                    635.0        669.0   \n",
      "3     124.0              81.0                    891.0        656.0   \n",
      "4     106.0              83.0                    890.0        602.0   \n",
      "5     106.0              84.0                    727.0        610.0   \n",
      "6     123.0              80.0                    834.0        669.0   \n",
      "7     105.0              82.0                    976.0        480.0   \n",
      "8     103.0              81.0                    933.0        506.0   \n",
      "9     145.0              80.0                    718.0        573.0   \n",
      "10    127.0              79.0                    764.0        547.0   \n",
      "11    132.0              81.0                    716.0        538.0   \n",
      "12    119.0              81.0                    957.0        579.0   \n",
      "13    124.0              83.0                    929.0        489.0   \n",
      "14    126.0              83.0                   1036.0        540.0   \n",
      "15    131.0              83.0                    798.0        590.0   \n",
      "16    151.0              81.0                    614.0        523.0   \n",
      "17    133.0              83.0                    786.0        561.0   \n",
      "18     96.0              86.0                   1307.0        492.0   \n",
      "19    117.0              83.0                    977.0        583.0   \n",
      "20     91.0              84.0                    975.0        541.0   \n",
      "21    105.0              84.0                   1091.0        571.0   \n",
      "22    134.0              83.0                    988.0        574.0   \n",
      "23    159.0              80.0                    648.0        635.0   \n",
      "24    128.0              82.0                    910.0        569.0   \n",
      "25    120.0              82.0                    873.0        591.0   \n",
      "26    140.0              81.0                    867.0        601.0   \n",
      "27    132.0              82.0                   1033.0        581.0   \n",
      "28    125.0              81.0                    943.0        576.0   \n",
      "29    132.0              81.0                    833.0        612.0   \n",
      "30    126.0              80.0                    901.0        590.0   \n",
      "31    147.0              81.0                    962.0        585.0   \n",
      "32    120.0              81.0                    973.0        564.0   \n",
      "33    139.0              80.0                    934.0        565.0   \n",
      "34    130.0              81.0                    952.0        607.0   \n",
      "\n",
      "    HeatingDegreeDays  \n",
      "0              2884.0  \n",
      "1              3244.0  \n",
      "2              3005.0  \n",
      "3              2999.0  \n",
      "4              3177.0  \n",
      "5              3487.0  \n",
      "6              3333.0  \n",
      "7              3372.0  \n",
      "8              2823.0  \n",
      "9              2729.0  \n",
      "10             2677.0  \n",
      "11             3163.0  \n",
      "12             2829.0  \n",
      "13             3076.0  \n",
      "14             2835.0  \n",
      "15             2917.0  \n",
      "16             3504.0  \n",
      "17             2929.0  \n",
      "18             2821.0  \n",
      "19             2676.0  \n",
      "20             2659.0  \n",
      "21             2880.0  \n",
      "22             2720.0  \n",
      "23             2913.0  \n",
      "24             2880.0  \n",
      "25             2765.0  \n",
      "26             2671.0  \n",
      "27             2525.0  \n",
      "28             2785.0  \n",
      "29             2805.0  \n",
      "30             3321.0  \n",
      "31             2622.0  \n",
      "32             2879.0  \n",
      "33             3078.0  \n",
      "34             2385.0  \n"
     ]
    }
   ],
   "source": [
    "# 1981 ve sonrasındaki verileri tutup, 1981'den önceki verileri siliyorum\n",
    "df = df[df['Year'] >= 1981]\n",
    "\n",
    "# İndeksleri sıfırlayın\n",
    "df.reset_index(drop=True, inplace=True)\n",
    "\n",
    "\n",
    "# Yeni DataFrame'i görüntülüyorum\n",
    "print(df)"
   ]
  },
  {
   "cell_type": "code",
   "execution_count": 74,
   "id": "acbd560f-f00d-4186-8227-742b4b1d4c29",
   "metadata": {},
   "outputs": [
    {
     "name": "stdout",
     "output_type": "stream",
     "text": [
      "(35, 20)\n"
     ]
    }
   ],
   "source": [
    "#Yeni veri setimin boyutunu (satır, sütun) olarak kontrol ediyorum.\n",
    "\n",
    "print(df.shape)"
   ]
  },
  {
   "cell_type": "code",
   "execution_count": 76,
   "id": "00ffb922-08bb-4ab8-a18e-9fba9ac1d5b2",
   "metadata": {},
   "outputs": [
    {
     "name": "stdout",
     "output_type": "stream",
     "text": [
      "Year                       0\n",
      "YearlyAvgTemp              0\n",
      "WinterAvgTemp              0\n",
      "WinterAvgMinTemp           0\n",
      "SummerAvgTemp              0\n",
      "SummerAvgMaxTemp           0\n",
      "SunlessDays                0\n",
      "DaysWithPrecipitation      0\n",
      "DaysWithFog                0\n",
      "IceDays                    0\n",
      "FrostDays                  0\n",
      "SnowDays                   0\n",
      "HoursOfSunshine            0\n",
      "SummeryDays                0\n",
      "TropicalDays               0\n",
      "DryDays                    0\n",
      "RelativeHumidity           0\n",
      "QuantityOfPrecipitation    0\n",
      "Evaporation                0\n",
      "HeatingDegreeDays          0\n",
      "dtype: int64\n"
     ]
    }
   ],
   "source": [
    "# Veri çerçevesindeki eksik veri olup olmadığını kontrol ediyorum\n",
    "missing_data = df.isnull().sum()\n",
    "\n",
    "# Sonuçları görüntülüyorum\n",
    "print(missing_data)"
   ]
  },
  {
   "cell_type": "markdown",
   "id": "cd9ce0c1-a34e-4ef1-90bf-135b7f451a8e",
   "metadata": {},
   "source": [
    "    Bundan sonraki adımlarda, Veri Analizi ve Tahmin Modeli Geliştireceğim. Ancak bu adımları farklı notebooklarda izleyeceğim. Dolayısıyla temizlenmiş mevcut veri setimi bu adımda kaydedeceğim. "
   ]
  },
  {
   "cell_type": "code",
   "execution_count": 80,
   "id": "973e8d75-7661-4854-bde4-69816a0f4970",
   "metadata": {},
   "outputs": [],
   "source": [
    "# Yeni dosyaya kaydetmek (Excel formatında)\n",
    "df.to_excel('ClimateDeBilt_Preprocessed.xlsx', index=False)  # index=False, indeks sütununu dahil etmemek için\n"
   ]
  },
  {
   "cell_type": "markdown",
   "id": "4fffe94d-d5d4-456c-81b8-aa53383ab02d",
   "metadata": {},
   "source": [
    "## - Data Preprocessing Sonu - "
   ]
  },
  {
   "cell_type": "code",
   "execution_count": null,
   "id": "9f70ec46-586d-4273-b79c-4a214c247ff8",
   "metadata": {},
   "outputs": [],
   "source": []
  }
 ],
 "metadata": {
  "kernelspec": {
   "display_name": "Python 3 (ipykernel)",
   "language": "python",
   "name": "python3"
  },
  "language_info": {
   "codemirror_mode": {
    "name": "ipython",
    "version": 3
   },
   "file_extension": ".py",
   "mimetype": "text/x-python",
   "name": "python",
   "nbconvert_exporter": "python",
   "pygments_lexer": "ipython3",
   "version": "3.11.5"
  }
 },
 "nbformat": 4,
 "nbformat_minor": 5
}
